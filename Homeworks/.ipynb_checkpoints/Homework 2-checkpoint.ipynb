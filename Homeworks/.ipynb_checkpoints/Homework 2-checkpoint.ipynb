{
 "cells": [
  {
   "cell_type": "markdown",
   "id": "1783bd78-db8a-45f7-9ba5-1952cfcf92bc",
   "metadata": {},
   "source": [
    "\n",
    "# Import packages and import data (do not change this)"
   ]
  },
  {
   "cell_type": "code",
   "execution_count": 1,
   "id": "dfb54beb-e93e-4246-867e-c9de7c3b14c9",
   "metadata": {},
   "outputs": [
    {
     "ename": "ModuleNotFoundError",
     "evalue": "No module named 'sklearn'",
     "output_type": "error",
     "traceback": [
      "\u001b[1;31m---------------------------------------------------------------------------\u001b[0m",
      "\u001b[1;31mModuleNotFoundError\u001b[0m                       Traceback (most recent call last)",
      "Cell \u001b[1;32mIn[1], line 4\u001b[0m\n\u001b[0;32m      2\u001b[0m \u001b[38;5;28;01mimport\u001b[39;00m \u001b[38;5;21;01mnumpy\u001b[39;00m \u001b[38;5;28;01mas\u001b[39;00m \u001b[38;5;21;01mnp\u001b[39;00m\n\u001b[0;32m      3\u001b[0m \u001b[38;5;28;01mimport\u001b[39;00m \u001b[38;5;21;01mseaborn\u001b[39;00m \u001b[38;5;28;01mas\u001b[39;00m \u001b[38;5;21;01msns\u001b[39;00m\n\u001b[1;32m----> 4\u001b[0m \u001b[38;5;28;01mfrom\u001b[39;00m \u001b[38;5;21;01msklearn\u001b[39;00m\u001b[38;5;21;01m.\u001b[39;00m\u001b[38;5;21;01mmodel_selection\u001b[39;00m \u001b[38;5;28;01mimport\u001b[39;00m train_test_split\n\u001b[0;32m      5\u001b[0m \u001b[38;5;28;01mfrom\u001b[39;00m \u001b[38;5;21;01msklearn\u001b[39;00m\u001b[38;5;21;01m.\u001b[39;00m\u001b[38;5;21;01mmetrics\u001b[39;00m \u001b[38;5;28;01mimport\u001b[39;00m precision_score, recall_score, confusion_matrix, matthews_corrcoef, accuracy_score\n\u001b[0;32m      6\u001b[0m \u001b[38;5;28;01mfrom\u001b[39;00m \u001b[38;5;21;01msklearn\u001b[39;00m\u001b[38;5;21;01m.\u001b[39;00m\u001b[38;5;21;01mensemble\u001b[39;00m \u001b[38;5;28;01mimport\u001b[39;00m RandomForestClassifier\n",
      "\u001b[1;31mModuleNotFoundError\u001b[0m: No module named 'sklearn'"
     ]
    }
   ],
   "source": [
    "import pandas as pd\n",
    "import numpy as np\n",
    "import seaborn as sns\n",
    "from sklearn.model_selection import train_test_split\n",
    "from sklearn.metrics import precision_score, recall_score, confusion_matrix, matthews_corrcoef, accuracy_score\n",
    "from sklearn.ensemble import RandomForestClassifier\n",
    "from sklearn.linear_model import LogisticRegression\n",
    "from sklearn.svm import SVC\n",
    "from sklearn.neighbors import KNeighborsClassifier\n",
    "from sklearn.tree import DecisionTreeClassifier\n",
    "import matplotlib.pyplot as plt\n",
    "\n",
    "# Read the dataset from CSV\n",
    "data = pd.read_csv('Synapse.csv')\n"
   ]
  },
  {
   "cell_type": "markdown",
   "id": "657351be-0a2d-4309-a6a3-4046aedb064e",
   "metadata": {},
   "source": [
    "# Function to plot the confusion matrix (do not change this)"
   ]
  },
  {
   "cell_type": "code",
   "execution_count": null,
   "id": "e0b4e433-ef76-47d2-bbbd-08b31d5b7cd7",
   "metadata": {},
   "outputs": [],
   "source": [
    "\n",
    "def plot_confusion_matrix(cm, classifier_name):\n",
    "    sns.heatmap(cm, annot=True, fmt='d')\n",
    "    plt.title(f'Confusion Matrix for {classifier_name}')\n",
    "    plt.xlabel('Predicted Label')\n",
    "    plt.ylabel('True Label')\n",
    "    plt.show()\n"
   ]
  },
  {
   "cell_type": "markdown",
   "id": "33afae13-5a25-4345-8ef4-7decbf4d8c6d",
   "metadata": {},
   "source": [
    "# Function to plot the correlation matrix (do not change this)"
   ]
  },
  {
   "cell_type": "code",
   "execution_count": null,
   "id": "3f8111b8",
   "metadata": {},
   "outputs": [],
   "source": [
    "\n",
    "def plot_correlation_matrix(data):\n",
    "    correlation_matrix = data.corr()\n",
    "    sns.heatmap(correlation_matrix, annot=True)\n",
    "    plt.title('Feature Correlation Matrix')\n",
    "    plt.show()\n"
   ]
  },
  {
   "cell_type": "markdown",
   "id": "f364876e-f576-4e33-a0f0-12743484b3b5",
   "metadata": {},
   "source": [
    "# Function to plot the correlation between features and the response variable (do not change this)"
   ]
  },
  {
   "cell_type": "code",
   "execution_count": null,
   "id": "a786ba4d",
   "metadata": {},
   "outputs": [],
   "source": [
    "\n",
    "def plot_feature_response_correlation(data, response):\n",
    "    correlation_matrix = data.corr()[response].sort_values(ascending=False)\n",
    "    # Drop the response variable to avoid a self-correlation of 1\n",
    "    correlation_matrix = correlation_matrix.drop(response, axis=0)\n",
    "    \n",
    "    sns.barplot(x=correlation_matrix.index, y=correlation_matrix.values)\n",
    "    plt.title(f'Correlation with {response} Variable')\n",
    "    plt.xlabel('Feature')\n",
    "    plt.ylabel('Correlation coefficient')\n",
    "    plt.xticks(rotation=90)  # Rotate the feature names for better readability\n",
    "    plt.show()"
   ]
  },
  {
   "cell_type": "markdown",
   "id": "be601169-3313-49fe-9fa3-0d572c19bc5f",
   "metadata": {},
   "source": [
    "# Define the feature set and the target variable (do not change this)"
   ]
  },
  {
   "cell_type": "code",
   "execution_count": null,
   "id": "6cdc4698",
   "metadata": {},
   "outputs": [],
   "source": [
    "# Here we are asking to drop the featuers named \"File\" becuase its a text and not useful, and the label Bug because we can not have it amongs the features.\n",
    "X = data.drop(['File', 'BUG'], axis=1)\n",
    "# Here we are asking y to be the target variable, what we are trying to predict/ classify.\n",
    "y = data['BUG']\n",
    "x_bug = data.drop(['File'], axis=1)\n"
   ]
  },
  {
   "cell_type": "markdown",
   "id": "5ca6530a-c259-481a-8690-d868e70f1cbb",
   "metadata": {},
   "source": [
    "# Here you get to choose which features to include. After runninng the entire code at least once, you can select which fetueres to be included to answer HW2 questions. "
   ]
  },
  {
   "cell_type": "code",
   "execution_count": null,
   "id": "573360a0-cba7-4a4b-bf34-d161cf686873",
   "metadata": {},
   "outputs": [],
   "source": []
  },
  {
   "cell_type": "code",
   "execution_count": null,
   "id": "8d106de6",
   "metadata": {},
   "outputs": [],
   "source": [
    "# Split the dataset into training and test sets (you can adjust the size of test set here)\n",
    "X_train, X_test, y_train, y_test = train_test_split(X, y, test_size=0.2, random_state=42)\n"
   ]
  },
  {
   "cell_type": "code",
   "execution_count": null,
   "id": "45beee9b",
   "metadata": {},
   "outputs": [],
   "source": [
    "# Plot the correlation matrix for the features only in the dataset \n",
    "plot_correlation_matrix(X)"
   ]
  },
  {
   "cell_type": "code",
   "execution_count": null,
   "id": "df37cb20",
   "metadata": {},
   "outputs": [],
   "source": [
    "\n",
    "# Add the target variable back for correlation calculation (do not change this)\n",
    "data_for_correlation = X.copy()\n",
    "data_for_correlation['BUG'] = y\n",
    "\n",
    "# Plot the correlation matrix for features and the BUG variable (do not change this)\n",
    "plot_feature_response_correlation(data_for_correlation, 'BUG')\n"
   ]
  },
  {
   "cell_type": "code",
   "execution_count": null,
   "id": "8abb0d59",
   "metadata": {},
   "outputs": [],
   "source": [
    "import seaborn as sns\n",
    "import matplotlib.pyplot as plt\n",
    "\n",
    "# Assuming 'data' is your DataFrame and it includes the 'BUG' column (do not change this)\n",
    "\n",
    "# Calculate the correlation matrix including all features and the response variable 'BUG'\n",
    "correlation_matrix = x_bug.corr()\n",
    "\n",
    "# Plot the correlation matrix\n",
    "plt.figure(figsize=(18,  12))\n",
    "sns.heatmap(correlation_matrix, annot=True, fmt='.2f', cmap='coolwarm')\n",
    "plt.title('Correlation Matrix with BUG included')\n",
    "plt.show()\n"
   ]
  },
  {
   "cell_type": "markdown",
   "id": "bbb764ea-f095-4dc2-ab36-07b4810eb700",
   "metadata": {},
   "source": [
    "# Define the classifiers (you can uncomment your choicses by removing the # to add to your execution)"
   ]
  },
  {
   "cell_type": "code",
   "execution_count": 2,
   "id": "223c814b",
   "metadata": {},
   "outputs": [
    {
     "ename": "NameError",
     "evalue": "name 'LogisticRegression' is not defined",
     "output_type": "error",
     "traceback": [
      "\u001b[1;31m---------------------------------------------------------------------------\u001b[0m",
      "\u001b[1;31mNameError\u001b[0m                                 Traceback (most recent call last)",
      "Cell \u001b[1;32mIn[2], line 3\u001b[0m\n\u001b[0;32m      1\u001b[0m classifiers \u001b[38;5;241m=\u001b[39m {\n\u001b[0;32m      2\u001b[0m     \u001b[38;5;66;03m#'RandomForest': RandomForestClassifier(n_estimators=100, random_state=42),\u001b[39;00m\n\u001b[1;32m----> 3\u001b[0m     \u001b[38;5;124m'\u001b[39m\u001b[38;5;124mLogisticRegression\u001b[39m\u001b[38;5;124m'\u001b[39m: \u001b[43mLogisticRegression\u001b[49m(max_iter\u001b[38;5;241m=\u001b[39m\u001b[38;5;241m1000\u001b[39m),\n\u001b[0;32m      4\u001b[0m     \u001b[38;5;66;03m#'SVC': SVC(probability=True, random_state=42),\u001b[39;00m\n\u001b[0;32m      5\u001b[0m     \u001b[38;5;66;03m#'KNeighbors': KNeighborsClassifier(),\u001b[39;00m\n\u001b[0;32m      6\u001b[0m     \u001b[38;5;66;03m#'DecisionTree': DecisionTreeClassifier(random_state=42)\u001b[39;00m\n\u001b[0;32m      7\u001b[0m }\n",
      "\u001b[1;31mNameError\u001b[0m: name 'LogisticRegression' is not defined"
     ]
    }
   ],
   "source": [
    "\n",
    "classifiers = {\n",
    "    #'RandomForest': RandomForestClassifier(n_estimators=100, random_state=42),\n",
    "    'LogisticRegression': LogisticRegression(max_iter=1000),\n",
    "    #'SVC': SVC(probability=True, random_state=42),\n",
    "    #'KNeighbors': KNeighborsClassifier(),\n",
    "    #'DecisionTree': DecisionTreeClassifier(random_state=42)\n",
    "}\n",
    "\n"
   ]
  },
  {
   "cell_type": "markdown",
   "id": "d91c50f6-6286-41c2-bdfb-0ef5b5e320ab",
   "metadata": {},
   "source": [
    "# Iterate through the classifiers and evaluate each one (do not change this)"
   ]
  },
  {
   "cell_type": "code",
   "execution_count": 3,
   "id": "25c5e994",
   "metadata": {},
   "outputs": [
    {
     "ename": "NameError",
     "evalue": "name 'classifiers' is not defined",
     "output_type": "error",
     "traceback": [
      "\u001b[1;31m---------------------------------------------------------------------------\u001b[0m",
      "\u001b[1;31mNameError\u001b[0m                                 Traceback (most recent call last)",
      "Cell \u001b[1;32mIn[3], line 1\u001b[0m\n\u001b[1;32m----> 1\u001b[0m \u001b[38;5;28;01mfor\u001b[39;00m name, clf \u001b[38;5;129;01min\u001b[39;00m \u001b[43mclassifiers\u001b[49m\u001b[38;5;241m.\u001b[39mitems():\n\u001b[0;32m      2\u001b[0m     clf\u001b[38;5;241m.\u001b[39mfit(X_train, y_train)\n\u001b[0;32m      3\u001b[0m     y_pred \u001b[38;5;241m=\u001b[39m clf\u001b[38;5;241m.\u001b[39mpredict(X_test)\n",
      "\u001b[1;31mNameError\u001b[0m: name 'classifiers' is not defined"
     ]
    }
   ],
   "source": [
    "\n",
    "for name, clf in classifiers.items():\n",
    "    clf.fit(X_train, y_train)\n",
    "    y_pred = clf.predict(X_test)\n",
    "\n",
    "    # Compute the performance metrics\n",
    "    cm = confusion_matrix(y_test, y_pred)\n",
    "    precision = precision_score(y_test, y_pred, zero_division=0)\n",
    "    recall = recall_score(y_test, y_pred, zero_division=0)\n",
    "    mcc = matthews_corrcoef(y_test, y_pred)\n",
    "    accuracy = accuracy_score(y_test, y_pred)\n",
    "\n",
    "    # Print classifier name and confusion matrix\n",
    "    print(f\"\\nClassifier: {name}\")\n",
    "    print(f\"Confusion Matrix:\\n{cm}\")\n",
    "\n",
    "    # Plot the confusion matrix\n",
    "    plot_confusion_matrix(cm, name)\n",
    "\n",
    "    # List all performance metrics\n",
    "    print(f\"Performance Metrics for {name}:\")\n",
    "    print(f\"Accuracy: {accuracy:.4f}\")\n",
    "    print(f\"Precision: {precision:.4f}\")\n",
    "    print(f\"Recall: {recall:.4f}\")\n",
    "    print(f\"MCC: {mcc:.4f}\")\n"
   ]
  },
  {
   "cell_type": "markdown",
   "id": "3a59377b-6cd4-4a91-b749-863539969f07",
   "metadata": {},
   "source": [
    "# You may add codes below"
   ]
  },
  {
   "cell_type": "code",
   "execution_count": null,
   "id": "5dc5040e",
   "metadata": {},
   "outputs": [],
   "source": []
  },
  {
   "cell_type": "code",
   "execution_count": null,
   "id": "d65cb95d",
   "metadata": {},
   "outputs": [],
   "source": []
  },
  {
   "cell_type": "code",
   "execution_count": null,
   "id": "566cded5",
   "metadata": {},
   "outputs": [],
   "source": []
  },
  {
   "cell_type": "code",
   "execution_count": null,
   "id": "6afd594f",
   "metadata": {},
   "outputs": [],
   "source": []
  },
  {
   "cell_type": "code",
   "execution_count": null,
   "id": "35c6a769",
   "metadata": {},
   "outputs": [],
   "source": []
  },
  {
   "cell_type": "code",
   "execution_count": null,
   "id": "521aeb8f",
   "metadata": {},
   "outputs": [],
   "source": []
  },
  {
   "cell_type": "code",
   "execution_count": null,
   "id": "1b717f40",
   "metadata": {},
   "outputs": [],
   "source": []
  },
  {
   "cell_type": "code",
   "execution_count": null,
   "id": "56b7c261",
   "metadata": {},
   "outputs": [],
   "source": [
    "\n"
   ]
  },
  {
   "cell_type": "code",
   "execution_count": null,
   "id": "1f5dc683",
   "metadata": {},
   "outputs": [],
   "source": []
  },
  {
   "cell_type": "code",
   "execution_count": null,
   "id": "dcc7973d",
   "metadata": {},
   "outputs": [],
   "source": []
  },
  {
   "cell_type": "code",
   "execution_count": null,
   "id": "a2ff7926",
   "metadata": {},
   "outputs": [],
   "source": []
  }
 ],
 "metadata": {
  "kernelspec": {
   "display_name": "Python [conda env:pythonforcyber]",
   "language": "python",
   "name": "conda-env-pythonforcyber-py"
  },
  "language_info": {
   "codemirror_mode": {
    "name": "ipython",
    "version": 3
   },
   "file_extension": ".py",
   "mimetype": "text/x-python",
   "name": "python",
   "nbconvert_exporter": "python",
   "pygments_lexer": "ipython3",
   "version": "3.9.20"
  }
 },
 "nbformat": 4,
 "nbformat_minor": 5
}
